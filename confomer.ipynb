{
 "cells": [
  {
   "cell_type": "code",
   "execution_count": 10,
   "metadata": {},
   "outputs": [],
   "source": [
    "import pubchempy as pcp\n",
    "from rdkit import Chem\n",
    "from rdkit.Chem.Draw import IPythonConsole\n",
    "from rdkit.Chem import Draw"
   ]
  },
  {
   "cell_type": "code",
   "execution_count": 4,
   "metadata": {
    "scrolled": true
   },
   "outputs": [
    {
     "name": "stdout",
     "output_type": "stream",
     "text": [
      "C1=CC=CC=C1\n",
      "<class 'rdkit.Chem.rdchem.Mol'>\n",
      "\n",
      "     RDKit          \n",
      "\n",
      "  6  6  0  0  0  0  0  0  0  0999 V2000\n",
      "    0.0000    0.0000    0.0000 C   0  0  0  0  0  0  0  0  0  0  0  0\n",
      "    0.0000    0.0000    0.0000 C   0  0  0  0  0  0  0  0  0  0  0  0\n",
      "    0.0000    0.0000    0.0000 C   0  0  0  0  0  0  0  0  0  0  0  0\n",
      "    0.0000    0.0000    0.0000 C   0  0  0  0  0  0  0  0  0  0  0  0\n",
      "    0.0000    0.0000    0.0000 C   0  0  0  0  0  0  0  0  0  0  0  0\n",
      "    0.0000    0.0000    0.0000 C   0  0  0  0  0  0  0  0  0  0  0  0\n",
      "  1  2  2  0\n",
      "  2  3  1  0\n",
      "  3  4  2  0\n",
      "  4  5  1  0\n",
      "  5  6  2  0\n",
      "  6  1  1  0\n",
      "M  END\n",
      "\n"
     ]
    }
   ],
   "source": [
    "#ベンゼンの構造をpubchempyで取得し、原子の情報を取得する\n",
    "benzene = pcp.get_compounds('benzene', 'name')\n",
    "if len(benzene) == 1: benzene = benzene[0]\n",
    "smiles = benzene.canonical_smiles\n",
    "print(smiles) # 'C1=CC=CC=C1'\n",
    "mol_ben = Chem.MolFromSmiles(smiles)\n",
    "print(type(mol_ben)) # rdkit.Chem.rdchem.Mol\n",
    "print(Chem.MolToMolBlock(mol_ben, includeStereo=False))"
   ]
  },
  {
   "cell_type": "code",
   "execution_count": 15,
   "metadata": {},
   "outputs": [
    {
     "name": "stdout",
     "output_type": "stream",
     "text": [
      "\n",
      "     RDKit          \n",
      "\n",
      " 12 12  0  0  0  0  0  0  0  0999 V2000\n",
      "    0.0000    0.0000    0.0000 C   0  0  0  0  0  0  0  0  0  0  0  0\n",
      "    0.0000    0.0000    0.0000 C   0  0  0  0  0  0  0  0  0  0  0  0\n",
      "    0.0000    0.0000    0.0000 C   0  0  0  0  0  0  0  0  0  0  0  0\n",
      "    0.0000    0.0000    0.0000 C   0  0  0  0  0  0  0  0  0  0  0  0\n",
      "    0.0000    0.0000    0.0000 C   0  0  0  0  0  0  0  0  0  0  0  0\n",
      "    0.0000    0.0000    0.0000 C   0  0  0  0  0  0  0  0  0  0  0  0\n",
      "    0.0000    0.0000    0.0000 H   0  0  0  0  0  0  0  0  0  0  0  0\n",
      "    0.0000    0.0000    0.0000 H   0  0  0  0  0  0  0  0  0  0  0  0\n",
      "    0.0000    0.0000    0.0000 H   0  0  0  0  0  0  0  0  0  0  0  0\n",
      "    0.0000    0.0000    0.0000 H   0  0  0  0  0  0  0  0  0  0  0  0\n",
      "    0.0000    0.0000    0.0000 H   0  0  0  0  0  0  0  0  0  0  0  0\n",
      "    0.0000    0.0000    0.0000 H   0  0  0  0  0  0  0  0  0  0  0  0\n",
      "  1  2  2  0\n",
      "  2  3  1  0\n",
      "  3  4  2  0\n",
      "  4  5  1  0\n",
      "  5  6  2  0\n",
      "  6  1  1  0\n",
      "  1  7  1  0\n",
      "  2  8  1  0\n",
      "  3  9  1  0\n",
      "  4 10  1  0\n",
      "  5 11  1  0\n",
      "  6 12  1  0\n",
      "M  END\n",
      "\n"
     ]
    }
   ],
   "source": [
    "mol_benH = Chem.AddHs(mol_ben)\n",
    "print(Chem.MolToMolBlock(mol_benH, includeStereo=False))\n"
   ]
  },
  {
   "cell_type": "code",
   "execution_count": 16,
   "metadata": {},
   "outputs": [
    {
     "name": "stdout",
     "output_type": "stream",
     "text": [
      "\n",
      "     RDKit          2D\n",
      "\n",
      "  6  6  0  0  0  0  0  0  0  0999 V2000\n",
      "    1.5000    0.0000    0.0000 C   0  0  0  0  0  0  0  0  0  0  0  0\n",
      "    0.7500   -1.2990    0.0000 C   0  0  0  0  0  0  0  0  0  0  0  0\n",
      "   -0.7500   -1.2990    0.0000 C   0  0  0  0  0  0  0  0  0  0  0  0\n",
      "   -1.5000    0.0000    0.0000 C   0  0  0  0  0  0  0  0  0  0  0  0\n",
      "   -0.7500    1.2990    0.0000 C   0  0  0  0  0  0  0  0  0  0  0  0\n",
      "    0.7500    1.2990    0.0000 C   0  0  0  0  0  0  0  0  0  0  0  0\n",
      "  1  2  2  0\n",
      "  2  3  1  0\n",
      "  3  4  2  0\n",
      "  4  5  1  0\n",
      "  5  6  2  0\n",
      "  6  1  1  0\n",
      "M  END\n",
      "\n"
     ]
    }
   ],
   "source": [
    "from rdkit.Chem import AllChem\n",
    "AllChem.Compute2DCoords(mol_ben)\n",
    "print(Chem.MolToMolBlock(mol_ben))"
   ]
  },
  {
   "cell_type": "code",
   "execution_count": 43,
   "metadata": {},
   "outputs": [
    {
     "name": "stdout",
     "output_type": "stream",
     "text": [
      "2019.03.4\n"
     ]
    }
   ],
   "source": [
    "from rdkit import rdBase, Chem\n",
    "print(rdBase.rdkitVersion) # 2019.09.3\n",
    "from rdkit.Chem import AllChem\n",
    "from rdkit.Chem.Draw import IPythonConsole\n",
    "import py3Dmol\n",
    "import pandas as pd\n",
    "# 分子の読み込み\n",
    "suppl = Chem.SDMolSupplier('C:\\chem\\chem02.sdf', removeHs=False)\n",
    "mols = [x for x in suppl if x is not None]\n",
    "len(mols) # 4548\n",
    "mol = mols[20]"
   ]
  },
  {
   "cell_type": "code",
   "execution_count": 44,
   "metadata": {
    "scrolled": false
   },
   "outputs": [
    {
     "data": {
      "image/png": "[encoded data removed]",
      "text/plain": [
       "<rdkit.Chem.rdchem.Mol at 0x229fe5ff170>"
      ]
     },
     "execution_count": 44,
     "metadata": {},
     "output_type": "execute_result"
    }
   ],
   "source": [
    "mol"
   ]
  },
  {
   "cell_type": "code",
   "execution_count": 46,
   "metadata": {},
   "outputs": [],
   "source": [
    "def conf_generation(mol, numConfs, rms):\n",
    "    sm = Chem.MolToSmiles(mol)\n",
    "    m = Chem.MolFromSmiles(sm)\n",
    "    m_h = Chem.AddHs(m)\n",
    "    num_of_confs = []\n",
    "    for i in rms:\n",
    "        confids = AllChem.EmbedMultipleConfs(m_h, numConfs=numConfs,\n",
    "                                             randomSeed=1234, pruneRmsThresh=i,\n",
    "                                             numThreads=0)\n",
    "        num_of_confs.append((i,len(confids)))\n",
    "    return num_of_confs\n",
    " \n",
    "rms = [0.5, 1.0, 1.5, 2.0] # 4レベルの閾値設定\n",
    "num_of_confs = conf_generation(mol, 1000, rms)"
   ]
  },
  {
   "cell_type": "code",
   "execution_count": 47,
   "metadata": {},
   "outputs": [
    {
     "data": {
      "text/plain": [
       "[(0.5, 567), (1.0, 40), (1.5, 3), (2.0, 2)]"
      ]
     },
     "execution_count": 47,
     "metadata": {},
     "output_type": "execute_result"
    }
   ],
   "source": [
    "num_of_confs "
   ]
  },
  {
   "cell_type": "code",
   "execution_count": 24,
   "metadata": {},
   "outputs": [
    {
     "data": {
      "text/html": [
       "<div>\n",
       "<style scoped>\n",
       "    .dataframe tbody tr th:only-of-type {\n",
       "        vertical-align: middle;\n",
       "    }\n",
       "\n",
       "    .dataframe tbody tr th {\n",
       "        vertical-align: top;\n",
       "    }\n",
       "\n",
       "    .dataframe thead th {\n",
       "        text-align: right;\n",
       "    }\n",
       "</style>\n",
       "<table border=\"1\" class=\"dataframe\">\n",
       "  <thead>\n",
       "    <tr style=\"text-align: right;\">\n",
       "      <th></th>\n",
       "      <th>mmff</th>\n",
       "      <th>uff</th>\n",
       "    </tr>\n",
       "  </thead>\n",
       "  <tbody>\n",
       "    <tr>\n",
       "      <th>count</th>\n",
       "      <td>63.00</td>\n",
       "      <td>63.00</td>\n",
       "    </tr>\n",
       "    <tr>\n",
       "      <th>mean</th>\n",
       "      <td>0.77</td>\n",
       "      <td>0.63</td>\n",
       "    </tr>\n",
       "    <tr>\n",
       "      <th>std</th>\n",
       "      <td>0.54</td>\n",
       "      <td>0.48</td>\n",
       "    </tr>\n",
       "    <tr>\n",
       "      <th>min</th>\n",
       "      <td>0.00</td>\n",
       "      <td>0.00</td>\n",
       "    </tr>\n",
       "    <tr>\n",
       "      <th>25%</th>\n",
       "      <td>0.00</td>\n",
       "      <td>0.01</td>\n",
       "    </tr>\n",
       "    <tr>\n",
       "      <th>50%</th>\n",
       "      <td>1.02</td>\n",
       "      <td>0.60</td>\n",
       "    </tr>\n",
       "    <tr>\n",
       "      <th>75%</th>\n",
       "      <td>1.10</td>\n",
       "      <td>1.07</td>\n",
       "    </tr>\n",
       "    <tr>\n",
       "      <th>max</th>\n",
       "      <td>1.38</td>\n",
       "      <td>1.22</td>\n",
       "    </tr>\n",
       "  </tbody>\n",
       "</table>\n",
       "</div>"
      ],
      "text/plain": [
       "        mmff    uff\n",
       "count  63.00  63.00\n",
       "mean    0.77   0.63\n",
       "std     0.54   0.48\n",
       "min     0.00   0.00\n",
       "25%     0.00   0.01\n",
       "50%     1.02   0.60\n",
       "75%     1.10   1.07\n",
       "max     1.38   1.22"
      ]
     },
     "execution_count": 24,
     "metadata": {},
     "output_type": "execute_result"
    }
   ],
   "source": [
    "def mm_opt(mol, ff):\n",
    "    sm = Chem.MolToSmiles(mol)\n",
    "    m = Chem.MolFromSmiles(sm)\n",
    "    m_h = Chem.AddHs(m)\n",
    "    cids = AllChem.EmbedMultipleConfs(m_h, numConfs=100, randomSeed=1234,\n",
    "                                     pruneRmsThresh=0.5, numThreads=0)\n",
    "    if ff == 'uff':\n",
    "        AllChem.UFFOptimizeMoleculeConfs(m_h, numThreads=0)\n",
    "    if ff == 'mmff':\n",
    "        AllChem.MMFFOptimizeMoleculeConfs(m_h, numThreads=0)\n",
    "    rmsd = []\n",
    "    m = Chem.RemoveHs(m_h)\n",
    "    for cid in cids:\n",
    "        rmsd.append(AllChem.GetConformerRMS(m, 0, cid))\n",
    "    return rmsd\n",
    " \n",
    "uff_rmsd = mm_opt(mol, 'uff')\n",
    "mmff_rmsd = mm_opt(mol, 'mmff')\n",
    "df = pd.DataFrame({'uff': uff_rmsd,\n",
    "                  'mmff': mmff_rmsd})\n",
    "df.describe().round(2)\n"
   ]
  },
  {
   "cell_type": "code",
   "execution_count": 25,
   "metadata": {
    "scrolled": true
   },
   "outputs": [
    {
     "data": {
      "text/html": [
       "<div>\n",
       "<style scoped>\n",
       "    .dataframe tbody tr th:only-of-type {\n",
       "        vertical-align: middle;\n",
       "    }\n",
       "\n",
       "    .dataframe tbody tr th {\n",
       "        vertical-align: top;\n",
       "    }\n",
       "\n",
       "    .dataframe thead th {\n",
       "        text-align: right;\n",
       "    }\n",
       "</style>\n",
       "<table border=\"1\" class=\"dataframe\">\n",
       "  <thead>\n",
       "    <tr style=\"text-align: right;\">\n",
       "      <th></th>\n",
       "      <th>mmff</th>\n",
       "      <th>uff</th>\n",
       "    </tr>\n",
       "  </thead>\n",
       "  <tbody>\n",
       "    <tr>\n",
       "      <th>0</th>\n",
       "      <td>0.000000</td>\n",
       "      <td>0.000000</td>\n",
       "    </tr>\n",
       "    <tr>\n",
       "      <th>1</th>\n",
       "      <td>1.102803</td>\n",
       "      <td>0.604279</td>\n",
       "    </tr>\n",
       "    <tr>\n",
       "      <th>2</th>\n",
       "      <td>1.102793</td>\n",
       "      <td>0.604279</td>\n",
       "    </tr>\n",
       "    <tr>\n",
       "      <th>3</th>\n",
       "      <td>0.000025</td>\n",
       "      <td>0.011072</td>\n",
       "    </tr>\n",
       "    <tr>\n",
       "      <th>4</th>\n",
       "      <td>1.294236</td>\n",
       "      <td>1.208693</td>\n",
       "    </tr>\n",
       "  </tbody>\n",
       "</table>\n",
       "</div>"
      ],
      "text/plain": [
       "       mmff       uff\n",
       "0  0.000000  0.000000\n",
       "1  1.102803  0.604279\n",
       "2  1.102793  0.604279\n",
       "3  0.000025  0.011072\n",
       "4  1.294236  1.208693"
      ]
     },
     "execution_count": 25,
     "metadata": {},
     "output_type": "execute_result"
    }
   ],
   "source": [
    "df.head()"
   ]
  },
  {
   "cell_type": "code",
   "execution_count": 45,
   "metadata": {},
   "outputs": [],
   "source": [
    "def opt_sp_mm(mol, ff):\n",
    "    # 1. 1000個のコンフォマーを発生\n",
    "    sm = Chem.MolToSmiles(mol)\n",
    "    m = Chem.MolFromSmiles(sm)\n",
    "    m_h = Chem.AddHs(m)\n",
    "    cids = AllChem.EmbedMultipleConfs(m_h, numConfs=1000, randomSeed=1234,\n",
    "                                       pruneRmsThresh=0.5, numThreads=0)\n",
    " \n",
    "    # 2,3. 各コンフォマーを最適化し，エネルギー計算\n",
    "    energy = []\n",
    "    if ff == 'uff':\n",
    "        for cid in cids:\n",
    "            uff = AllChem.UFFGetMoleculeForceField(m_h, confId=cid)\n",
    "            uff.Minimize()\n",
    "            energy.append((uff.CalcEnergy(), cid))\n",
    "    if ff == 'mmff':\n",
    "        prop = AllChem.MMFFGetMoleculeProperties(m_h)\n",
    "        for cid in cids:\n",
    "            mmff = AllChem.MMFFGetMoleculeForceField(m_h, prop, confId=cid)\n",
    "            mmff.Minimize()\n",
    "            energy.append((mmff.CalcEnergy(), cid))\n",
    " \n",
    "    # 4. エネルギーをソートし，相対エネルギーとIDをリストに格納\n",
    "    energy.sort()\n",
    "    return [(i-energy[0][0],j) for i,j in energy]\n",
    " \n",
    "uff_e = opt_sp_mm(mol, 'uff')\n",
    "mmff_e = opt_sp_mm(mol, 'mmff')"
   ]
  },
  {
   "cell_type": "code",
   "execution_count": 34,
   "metadata": {},
   "outputs": [
    {
     "data": {
      "text/plain": [
       "([(0.0, 14),\n",
       "  (2.9409363833110547e-11, 20),\n",
       "  (2.9105251542205224e-10, 22),\n",
       "  (4.100115802430082e-10, 15),\n",
       "  (5.081908227566601e-10, 44)],\n",
       " [(0.0, 79),\n",
       "  (7.771205901008216e-11, 92),\n",
       "  (1.1606005045905476e-10, 28),\n",
       "  (2.72216027497052e-10, 57),\n",
       "  (5.811173764413979e-10, 17)])"
      ]
     },
     "execution_count": 34,
     "metadata": {},
     "output_type": "execute_result"
    }
   ],
   "source": [
    "uff_e[:5],mmff_e[:5]"
   ]
  },
  {
   "cell_type": "code",
   "execution_count": 48,
   "metadata": {},
   "outputs": [
    {
     "data": {
      "application/3dmoljs_load.v0": "<div id=\"3dmolviewer_16056884556303296\"  style=\"position: relative; width: 600px; height: 600px\">\n        <p id=\"3dmolwarning_16056884556303296\" style=\"background-color:#ffcccc;color:black\">You appear to be running in JupyterLab (or JavaScript failed to load for some other reason).  You need to install the 3dmol extension: <br>\n        <tt>jupyter labextension install jupyterlab_3dmol</tt></p>\n        </div>\n<script>\n\nvar loadScriptAsync = function(uri){\n  return new Promise((resolve, reject) => {\n    var tag = document.createElement('script');\n    tag.src = uri;\n    tag.async = true;\n    tag.onload = () => {\n      resolve();\n    };\n  var firstScriptTag = document.getElementsByTagName('script')[0];\n  firstScriptTag.parentNode.insertBefore(tag, firstScriptTag);\n});\n};\n\nif(typeof $3Dmolpromise === 'undefined') {\n$3Dmolpromise = null;\n  $3Dmolpromise = loadScriptAsync('https://3dmol.org/build/3Dmol.js');\n}\n\nvar viewer_16056884556303296 = null;\nvar warn = document.getElementById(\"3dmolwarning_16056884556303296\");\nif(warn) {\n    warn.parentNode.removeChild(warn);\n}\n$3Dmolpromise.then(function() {\nviewer_16056884556303296 = $3Dmol.createViewer($(\"#3dmolviewer_16056884556303296\"),{backgroundColor:\"white\"});\n\tviewer_16056884556303296.addModel(\"\\n     RDKit          3D\\n\\n 15 15  0  0  0  0  0  0  0  0999 V2000\\n    4.5063   -2.7570   -0.0966 C   0  0  0  0  0  0  0  0  0  0  0  0\\n    3.1942   -2.2420    0.0954 O   0  0  0  0  0  0  0  0  0  0  0  0\\n    2.9066   -0.8725    0.0635 C   0  0  0  0  0  0  0  0  0  0  0  0\\n    3.8354   -0.0438   -0.1427 O   0  0  0  0  0  0  0  0  0  0  0  0\\n    1.5108   -0.4085    0.2728 C   0  0  0  0  0  0  0  0  0  0  0  0\\n    0.4982   -1.3582    0.5004 C   0  0  0  0  0  0  0  0  0  0  0  0\\n   -0.8253   -0.9600    0.7013 C   0  0  0  0  0  0  0  0  0  0  0  0\\n   -1.1674    0.4022    0.6790 C   0  0  0  0  0  0  0  0  0  0  0  0\\n   -2.4816    0.8519    0.8753 O   0  0  0  0  0  0  0  0  0  0  0  0\\n   -3.5982   -0.0011    1.1148 C   0  0  0  0  0  0  0  0  0  0  0  0\\n   -4.8546    0.8423    1.2781 C   0  0  0  0  0  0  0  0  0  0  0  0\\n   -5.9530    0.0067    1.5135 O   0  0  0  0  0  0  0  0  0  0  0  0\\n   -0.1675    1.3519    0.4536 C   0  0  0  0  0  0  0  0  0  0  0  0\\n    1.1649    0.9625    0.2507 C   0  0  0  0  0  0  0  0  0  0  0  0\\n    2.1352    1.9400    0.0287 O   0  0  0  0  0  0  0  0  0  0  0  0\\n  1  2  1  0\\n  2  3  1  0\\n  3  4  2  0\\n  3  5  1  0\\n  5  6  2  0\\n  6  7  1  0\\n  7  8  2  0\\n  8  9  1  0\\n  9 10  1  0\\n 10 11  1  0\\n 11 12  1  0\\n  8 13  1  0\\n 13 14  2  0\\n 14 15  1  0\\n 14  5  1  0\\nM  END\\n\",\"sdf\");\n\tviewer_16056884556303296.setStyle({\"stick\": {}});\n\tviewer_16056884556303296.addModel(\"\\n     RDKit          3D\\n\\n 15 15  0  0  0  0  0  0  0  0999 V2000\\n    4.5035   -2.7611   -0.0960 C   0  0  0  0  0  0  0  0  0  0  0  0\\n    3.1919   -2.2445    0.0959 O   0  0  0  0  0  0  0  0  0  0  0  0\\n    2.9059   -0.8747    0.0638 C   0  0  0  0  0  0  0  0  0  0  0  0\\n    3.8358   -0.0471   -0.1426 O   0  0  0  0  0  0  0  0  0  0  0  0\\n    1.5106   -0.4091    0.2729 C   0  0  0  0  0  0  0  0  0  0  0  0\\n    0.4973   -1.3577    0.5005 C   0  0  0  0  0  0  0  0  0  0  0  0\\n   -0.8249   -0.9568    0.7010 C   0  0  0  0  0  0  0  0  0  0  0  0\\n   -1.1692    0.3961    0.6797 C   0  0  0  0  0  0  0  0  0  0  0  0\\n   -2.5122    0.7446    0.8868 O   0  0  0  0  0  0  0  0  0  0  0  0\\n   -3.0073    2.0813    0.8920 C   0  0  0  0  0  0  0  0  0  0  0  0\\n   -4.5076    2.0651    1.1473 C   0  0  0  0  0  0  0  0  0  0  0  0\\n   -4.9966    3.3770    1.1529 O   0  0  0  0  0  0  0  0  0  0  0  0\\n   -0.1661    1.3549    0.4532 C   0  0  0  0  0  0  0  0  0  0  0  0\\n    1.1661    0.9625    0.2505 C   0  0  0  0  0  0  0  0  0  0  0  0\\n    2.1384    1.9380    0.0283 O   0  0  0  0  0  0  0  0  0  0  0  0\\n  1  2  1  0\\n  2  3  1  0\\n  3  4  2  0\\n  3  5  1  0\\n  5  6  2  0\\n  6  7  1  0\\n  7  8  2  0\\n  8  9  1  0\\n  9 10  1  0\\n 10 11  1  0\\n 11 12  1  0\\n  8 13  1  0\\n 13 14  2  0\\n 14 15  1  0\\n 14  5  1  0\\nM  END\\n\",\"sdf\");\n\tviewer_16056884556303296.setStyle({\"stick\": {}});\n\tviewer_16056884556303296.addModel(\"\\n     RDKit          3D\\n\\n 15 15  0  0  0  0  0  0  0  0999 V2000\\n    4.5035   -2.7611   -0.0960 C   0  0  0  0  0  0  0  0  0  0  0  0\\n    3.1919   -2.2445    0.0960 O   0  0  0  0  0  0  0  0  0  0  0  0\\n    2.9059   -0.8747    0.0638 C   0  0  0  0  0  0  0  0  0  0  0  0\\n    3.8357   -0.0471   -0.1426 O   0  0  0  0  0  0  0  0  0  0  0  0\\n    1.5106   -0.4091    0.2729 C   0  0  0  0  0  0  0  0  0  0  0  0\\n    0.4973   -1.3577    0.5005 C   0  0  0  0  0  0  0  0  0  0  0  0\\n   -0.8249   -0.9568    0.7010 C   0  0  0  0  0  0  0  0  0  0  0  0\\n   -1.1692    0.3961    0.6797 C   0  0  0  0  0  0  0  0  0  0  0  0\\n   -2.5122    0.7446    0.8868 O   0  0  0  0  0  0  0  0  0  0  0  0\\n   -3.0073    2.0813    0.8921 C   0  0  0  0  0  0  0  0  0  0  0  0\\n   -4.5076    2.0651    1.1473 C   0  0  0  0  0  0  0  0  0  0  0  0\\n   -4.9965    3.3770    1.1530 O   0  0  0  0  0  0  0  0  0  0  0  0\\n   -0.1661    1.3549    0.4532 C   0  0  0  0  0  0  0  0  0  0  0  0\\n    1.1661    0.9625    0.2505 C   0  0  0  0  0  0  0  0  0  0  0  0\\n    2.1384    1.9380    0.0283 O   0  0  0  0  0  0  0  0  0  0  0  0\\n  1  2  1  0\\n  2  3  1  0\\n  3  4  2  0\\n  3  5  1  0\\n  5  6  2  0\\n  6  7  1  0\\n  7  8  2  0\\n  8  9  1  0\\n  9 10  1  0\\n 10 11  1  0\\n 11 12  1  0\\n  8 13  1  0\\n 13 14  2  0\\n 14 15  1  0\\n 14  5  1  0\\nM  END\\n\",\"sdf\");\n\tviewer_16056884556303296.setStyle({\"stick\": {}});\n\tviewer_16056884556303296.addModel(\"\\n     RDKit          3D\\n\\n 15 15  0  0  0  0  0  0  0  0999 V2000\\n    5.2880   -0.3243   -0.3724 C   0  0  0  0  0  0  0  0  0  0  0  0\\n    3.9342    0.0607   -0.1656 O   0  0  0  0  0  0  0  0  0  0  0  0\\n    2.9104   -0.8651    0.0624 C   0  0  0  0  0  0  0  0  0  0  0  0\\n    3.1796   -2.0983    0.0894 O   0  0  0  0  0  0  0  0  0  0  0  0\\n    1.5115   -0.4080    0.2726 C   0  0  0  0  0  0  0  0  0  0  0  0\\n    0.4978   -1.3581    0.5004 C   0  0  0  0  0  0  0  0  0  0  0  0\\n   -0.8256   -0.9600    0.7013 C   0  0  0  0  0  0  0  0  0  0  0  0\\n   -1.1675    0.4021    0.6791 C   0  0  0  0  0  0  0  0  0  0  0  0\\n   -2.4817    0.8521    0.8753 O   0  0  0  0  0  0  0  0  0  0  0  0\\n   -3.5984   -0.0007    1.1148 C   0  0  0  0  0  0  0  0  0  0  0  0\\n   -4.8546    0.8429    1.2781 C   0  0  0  0  0  0  0  0  0  0  0  0\\n   -5.9532    0.0076    1.5135 O   0  0  0  0  0  0  0  0  0  0  0  0\\n   -0.1675    1.3515    0.4536 C   0  0  0  0  0  0  0  0  0  0  0  0\\n    1.1651    0.9624    0.2507 C   0  0  0  0  0  0  0  0  0  0  0  0\\n    2.1342    1.9407    0.0288 O   0  0  0  0  0  0  0  0  0  0  0  0\\n  1  2  1  0\\n  2  3  1  0\\n  3  4  2  0\\n  3  5  1  0\\n  5  6  2  0\\n  6  7  1  0\\n  7  8  2  0\\n  8  9  1  0\\n  9 10  1  0\\n 10 11  1  0\\n 11 12  1  0\\n  8 13  1  0\\n 13 14  2  0\\n 14 15  1  0\\n 14  5  1  0\\nM  END\\n\",\"sdf\");\n\tviewer_16056884556303296.setStyle({\"stick\": {}});\n\tviewer_16056884556303296.addModel(\"\\n     RDKit          3D\\n\\n 15 15  0  0  0  0  0  0  0  0999 V2000\\n    5.2880   -0.3243   -0.3724 C   0  0  0  0  0  0  0  0  0  0  0  0\\n    3.9342    0.0607   -0.1656 O   0  0  0  0  0  0  0  0  0  0  0  0\\n    2.9104   -0.8651    0.0624 C   0  0  0  0  0  0  0  0  0  0  0  0\\n    3.1796   -2.0983    0.0894 O   0  0  0  0  0  0  0  0  0  0  0  0\\n    1.5115   -0.4080    0.2726 C   0  0  0  0  0  0  0  0  0  0  0  0\\n    0.4978   -1.3581    0.5004 C   0  0  0  0  0  0  0  0  0  0  0  0\\n   -0.8256   -0.9600    0.7013 C   0  0  0  0  0  0  0  0  0  0  0  0\\n   -1.1675    0.4021    0.6791 C   0  0  0  0  0  0  0  0  0  0  0  0\\n   -2.4817    0.8521    0.8753 O   0  0  0  0  0  0  0  0  0  0  0  0\\n   -3.5984   -0.0007    1.1148 C   0  0  0  0  0  0  0  0  0  0  0  0\\n   -4.8546    0.8429    1.2781 C   0  0  0  0  0  0  0  0  0  0  0  0\\n   -5.9532    0.0076    1.5135 O   0  0  0  0  0  0  0  0  0  0  0  0\\n   -0.1675    1.3515    0.4536 C   0  0  0  0  0  0  0  0  0  0  0  0\\n    1.1651    0.9624    0.2507 C   0  0  0  0  0  0  0  0  0  0  0  0\\n    2.1342    1.9407    0.0288 O   0  0  0  0  0  0  0  0  0  0  0  0\\n  1  2  1  0\\n  2  3  1  0\\n  3  4  2  0\\n  3  5  1  0\\n  5  6  2  0\\n  6  7  1  0\\n  7  8  2  0\\n  8  9  1  0\\n  9 10  1  0\\n 10 11  1  0\\n 11 12  1  0\\n  8 13  1  0\\n 13 14  2  0\\n 14 15  1  0\\n 14  5  1  0\\nM  END\\n\",\"sdf\");\n\tviewer_16056884556303296.setStyle({\"stick\": {}});\n\tviewer_16056884556303296.setBackgroundColor(\"0xeeeeee\");\n\tviewer_16056884556303296.zoomTo();\nviewer_16056884556303296.zoomTo();\nviewer_16056884556303296.render();\n});\n</script>",
      "text/html": [
       "<div id=\"3dmolviewer_16056884556303296\"  style=\"position: relative; width: 600px; height: 600px\">\n",
       "        <p id=\"3dmolwarning_16056884556303296\" style=\"background-color:#ffcccc;color:black\">You appear to be running in JupyterLab (or JavaScript failed to load for some other reason).  You need to install the 3dmol extension: <br>\n",
       "        <tt>jupyter labextension install jupyterlab_3dmol</tt></p>\n",
       "        </div>\n",
       "<script>\n",
       "\n",
       "var loadScriptAsync = function(uri){\n",
       "  return new Promise((resolve, reject) => {\n",
       "    var tag = document.createElement('script');\n",
       "    tag.src = uri;\n",
       "    tag.async = true;\n",
       "    tag.onload = () => {\n",
       "      resolve();\n",
       "    };\n",
       "  var firstScriptTag = document.getElementsByTagName('script')[0];\n",
       "  firstScriptTag.parentNode.insertBefore(tag, firstScriptTag);\n",
       "});\n",
       "};\n",
       "\n",
       "if(typeof $3Dmolpromise === 'undefined') {\n",
       "$3Dmolpromise = null;\n",
       "  $3Dmolpromise = loadScriptAsync('https://3dmol.org/build/3Dmol.js');\n",
       "}\n",
       "\n",
       "var viewer_16056884556303296 = null;\n",
       "var warn = document.getElementById(\"3dmolwarning_16056884556303296\");\n",
       "if(warn) {\n",
       "    warn.parentNode.removeChild(warn);\n",
       "}\n",
       "$3Dmolpromise.then(function() {\n",
       "viewer_16056884556303296 = $3Dmol.createViewer($(\"#3dmolviewer_16056884556303296\"),{backgroundColor:\"white\"});\n",
       "\tviewer_16056884556303296.addModel(\"\\n     RDKit          3D\\n\\n 15 15  0  0  0  0  0  0  0  0999 V2000\\n    4.5063   -2.7570   -0.0966 C   0  0  0  0  0  0  0  0  0  0  0  0\\n    3.1942   -2.2420    0.0954 O   0  0  0  0  0  0  0  0  0  0  0  0\\n    2.9066   -0.8725    0.0635 C   0  0  0  0  0  0  0  0  0  0  0  0\\n    3.8354   -0.0438   -0.1427 O   0  0  0  0  0  0  0  0  0  0  0  0\\n    1.5108   -0.4085    0.2728 C   0  0  0  0  0  0  0  0  0  0  0  0\\n    0.4982   -1.3582    0.5004 C   0  0  0  0  0  0  0  0  0  0  0  0\\n   -0.8253   -0.9600    0.7013 C   0  0  0  0  0  0  0  0  0  0  0  0\\n   -1.1674    0.4022    0.6790 C   0  0  0  0  0  0  0  0  0  0  0  0\\n   -2.4816    0.8519    0.8753 O   0  0  0  0  0  0  0  0  0  0  0  0\\n   -3.5982   -0.0011    1.1148 C   0  0  0  0  0  0  0  0  0  0  0  0\\n   -4.8546    0.8423    1.2781 C   0  0  0  0  0  0  0  0  0  0  0  0\\n   -5.9530    0.0067    1.5135 O   0  0  0  0  0  0  0  0  0  0  0  0\\n   -0.1675    1.3519    0.4536 C   0  0  0  0  0  0  0  0  0  0  0  0\\n    1.1649    0.9625    0.2507 C   0  0  0  0  0  0  0  0  0  0  0  0\\n    2.1352    1.9400    0.0287 O   0  0  0  0  0  0  0  0  0  0  0  0\\n  1  2  1  0\\n  2  3  1  0\\n  3  4  2  0\\n  3  5  1  0\\n  5  6  2  0\\n  6  7  1  0\\n  7  8  2  0\\n  8  9  1  0\\n  9 10  1  0\\n 10 11  1  0\\n 11 12  1  0\\n  8 13  1  0\\n 13 14  2  0\\n 14 15  1  0\\n 14  5  1  0\\nM  END\\n\",\"sdf\");\n",
       "\tviewer_16056884556303296.setStyle({\"stick\": {}});\n",
       "\tviewer_16056884556303296.addModel(\"\\n     RDKit          3D\\n\\n 15 15  0  0  0  0  0  0  0  0999 V2000\\n    4.5035   -2.7611   -0.0960 C   0  0  0  0  0  0  0  0  0  0  0  0\\n    3.1919   -2.2445    0.0959 O   0  0  0  0  0  0  0  0  0  0  0  0\\n    2.9059   -0.8747    0.0638 C   0  0  0  0  0  0  0  0  0  0  0  0\\n    3.8358   -0.0471   -0.1426 O   0  0  0  0  0  0  0  0  0  0  0  0\\n    1.5106   -0.4091    0.2729 C   0  0  0  0  0  0  0  0  0  0  0  0\\n    0.4973   -1.3577    0.5005 C   0  0  0  0  0  0  0  0  0  0  0  0\\n   -0.8249   -0.9568    0.7010 C   0  0  0  0  0  0  0  0  0  0  0  0\\n   -1.1692    0.3961    0.6797 C   0  0  0  0  0  0  0  0  0  0  0  0\\n   -2.5122    0.7446    0.8868 O   0  0  0  0  0  0  0  0  0  0  0  0\\n   -3.0073    2.0813    0.8920 C   0  0  0  0  0  0  0  0  0  0  0  0\\n   -4.5076    2.0651    1.1473 C   0  0  0  0  0  0  0  0  0  0  0  0\\n   -4.9966    3.3770    1.1529 O   0  0  0  0  0  0  0  0  0  0  0  0\\n   -0.1661    1.3549    0.4532 C   0  0  0  0  0  0  0  0  0  0  0  0\\n    1.1661    0.9625    0.2505 C   0  0  0  0  0  0  0  0  0  0  0  0\\n    2.1384    1.9380    0.0283 O   0  0  0  0  0  0  0  0  0  0  0  0\\n  1  2  1  0\\n  2  3  1  0\\n  3  4  2  0\\n  3  5  1  0\\n  5  6  2  0\\n  6  7  1  0\\n  7  8  2  0\\n  8  9  1  0\\n  9 10  1  0\\n 10 11  1  0\\n 11 12  1  0\\n  8 13  1  0\\n 13 14  2  0\\n 14 15  1  0\\n 14  5  1  0\\nM  END\\n\",\"sdf\");\n",
       "\tviewer_16056884556303296.setStyle({\"stick\": {}});\n",
       "\tviewer_16056884556303296.addModel(\"\\n     RDKit          3D\\n\\n 15 15  0  0  0  0  0  0  0  0999 V2000\\n    4.5035   -2.7611   -0.0960 C   0  0  0  0  0  0  0  0  0  0  0  0\\n    3.1919   -2.2445    0.0960 O   0  0  0  0  0  0  0  0  0  0  0  0\\n    2.9059   -0.8747    0.0638 C   0  0  0  0  0  0  0  0  0  0  0  0\\n    3.8357   -0.0471   -0.1426 O   0  0  0  0  0  0  0  0  0  0  0  0\\n    1.5106   -0.4091    0.2729 C   0  0  0  0  0  0  0  0  0  0  0  0\\n    0.4973   -1.3577    0.5005 C   0  0  0  0  0  0  0  0  0  0  0  0\\n   -0.8249   -0.9568    0.7010 C   0  0  0  0  0  0  0  0  0  0  0  0\\n   -1.1692    0.3961    0.6797 C   0  0  0  0  0  0  0  0  0  0  0  0\\n   -2.5122    0.7446    0.8868 O   0  0  0  0  0  0  0  0  0  0  0  0\\n   -3.0073    2.0813    0.8921 C   0  0  0  0  0  0  0  0  0  0  0  0\\n   -4.5076    2.0651    1.1473 C   0  0  0  0  0  0  0  0  0  0  0  0\\n   -4.9965    3.3770    1.1530 O   0  0  0  0  0  0  0  0  0  0  0  0\\n   -0.1661    1.3549    0.4532 C   0  0  0  0  0  0  0  0  0  0  0  0\\n    1.1661    0.9625    0.2505 C   0  0  0  0  0  0  0  0  0  0  0  0\\n    2.1384    1.9380    0.0283 O   0  0  0  0  0  0  0  0  0  0  0  0\\n  1  2  1  0\\n  2  3  1  0\\n  3  4  2  0\\n  3  5  1  0\\n  5  6  2  0\\n  6  7  1  0\\n  7  8  2  0\\n  8  9  1  0\\n  9 10  1  0\\n 10 11  1  0\\n 11 12  1  0\\n  8 13  1  0\\n 13 14  2  0\\n 14 15  1  0\\n 14  5  1  0\\nM  END\\n\",\"sdf\");\n",
       "\tviewer_16056884556303296.setStyle({\"stick\": {}});\n",
       "\tviewer_16056884556303296.addModel(\"\\n     RDKit          3D\\n\\n 15 15  0  0  0  0  0  0  0  0999 V2000\\n    5.2880   -0.3243   -0.3724 C   0  0  0  0  0  0  0  0  0  0  0  0\\n    3.9342    0.0607   -0.1656 O   0  0  0  0  0  0  0  0  0  0  0  0\\n    2.9104   -0.8651    0.0624 C   0  0  0  0  0  0  0  0  0  0  0  0\\n    3.1796   -2.0983    0.0894 O   0  0  0  0  0  0  0  0  0  0  0  0\\n    1.5115   -0.4080    0.2726 C   0  0  0  0  0  0  0  0  0  0  0  0\\n    0.4978   -1.3581    0.5004 C   0  0  0  0  0  0  0  0  0  0  0  0\\n   -0.8256   -0.9600    0.7013 C   0  0  0  0  0  0  0  0  0  0  0  0\\n   -1.1675    0.4021    0.6791 C   0  0  0  0  0  0  0  0  0  0  0  0\\n   -2.4817    0.8521    0.8753 O   0  0  0  0  0  0  0  0  0  0  0  0\\n   -3.5984   -0.0007    1.1148 C   0  0  0  0  0  0  0  0  0  0  0  0\\n   -4.8546    0.8429    1.2781 C   0  0  0  0  0  0  0  0  0  0  0  0\\n   -5.9532    0.0076    1.5135 O   0  0  0  0  0  0  0  0  0  0  0  0\\n   -0.1675    1.3515    0.4536 C   0  0  0  0  0  0  0  0  0  0  0  0\\n    1.1651    0.9624    0.2507 C   0  0  0  0  0  0  0  0  0  0  0  0\\n    2.1342    1.9407    0.0288 O   0  0  0  0  0  0  0  0  0  0  0  0\\n  1  2  1  0\\n  2  3  1  0\\n  3  4  2  0\\n  3  5  1  0\\n  5  6  2  0\\n  6  7  1  0\\n  7  8  2  0\\n  8  9  1  0\\n  9 10  1  0\\n 10 11  1  0\\n 11 12  1  0\\n  8 13  1  0\\n 13 14  2  0\\n 14 15  1  0\\n 14  5  1  0\\nM  END\\n\",\"sdf\");\n",
       "\tviewer_16056884556303296.setStyle({\"stick\": {}});\n",
       "\tviewer_16056884556303296.addModel(\"\\n     RDKit          3D\\n\\n 15 15  0  0  0  0  0  0  0  0999 V2000\\n    5.2880   -0.3243   -0.3724 C   0  0  0  0  0  0  0  0  0  0  0  0\\n    3.9342    0.0607   -0.1656 O   0  0  0  0  0  0  0  0  0  0  0  0\\n    2.9104   -0.8651    0.0624 C   0  0  0  0  0  0  0  0  0  0  0  0\\n    3.1796   -2.0983    0.0894 O   0  0  0  0  0  0  0  0  0  0  0  0\\n    1.5115   -0.4080    0.2726 C   0  0  0  0  0  0  0  0  0  0  0  0\\n    0.4978   -1.3581    0.5004 C   0  0  0  0  0  0  0  0  0  0  0  0\\n   -0.8256   -0.9600    0.7013 C   0  0  0  0  0  0  0  0  0  0  0  0\\n   -1.1675    0.4021    0.6791 C   0  0  0  0  0  0  0  0  0  0  0  0\\n   -2.4817    0.8521    0.8753 O   0  0  0  0  0  0  0  0  0  0  0  0\\n   -3.5984   -0.0007    1.1148 C   0  0  0  0  0  0  0  0  0  0  0  0\\n   -4.8546    0.8429    1.2781 C   0  0  0  0  0  0  0  0  0  0  0  0\\n   -5.9532    0.0076    1.5135 O   0  0  0  0  0  0  0  0  0  0  0  0\\n   -0.1675    1.3515    0.4536 C   0  0  0  0  0  0  0  0  0  0  0  0\\n    1.1651    0.9624    0.2507 C   0  0  0  0  0  0  0  0  0  0  0  0\\n    2.1342    1.9407    0.0288 O   0  0  0  0  0  0  0  0  0  0  0  0\\n  1  2  1  0\\n  2  3  1  0\\n  3  4  2  0\\n  3  5  1  0\\n  5  6  2  0\\n  6  7  1  0\\n  7  8  2  0\\n  8  9  1  0\\n  9 10  1  0\\n 10 11  1  0\\n 11 12  1  0\\n  8 13  1  0\\n 13 14  2  0\\n 14 15  1  0\\n 14  5  1  0\\nM  END\\n\",\"sdf\");\n",
       "\tviewer_16056884556303296.setStyle({\"stick\": {}});\n",
       "\tviewer_16056884556303296.setBackgroundColor(\"0xeeeeee\");\n",
       "\tviewer_16056884556303296.zoomTo();\n",
       "viewer_16056884556303296.zoomTo();\n",
       "viewer_16056884556303296.render();\n",
       "});\n",
       "</script>"
      ]
     },
     "metadata": {},
     "output_type": "display_data"
    }
   ],
   "source": [
    "# コンフォマーを発生させ構造最適化を行う関数\n",
    "def get_confs(mol, ff):\n",
    "    sm = Chem.MolToSmiles(mol)\n",
    "    m = Chem.MolFromSmiles(sm)\n",
    "    m_h = Chem.AddHs(m)\n",
    "    cids = AllChem.EmbedMultipleConfs(m_h, numConfs=1000, randomSeed=1234,\n",
    "                                       pruneRmsThresh=0.5, numThreads=0)\n",
    "    if ff == 'uff':\n",
    "        for cid in cids:\n",
    "            uff = AllChem.UFFGetMoleculeForceField(m_h, confId=cid)\n",
    "            uff.Minimize()\n",
    "    if ff == 'mmff':\n",
    "        prop = AllChem.MMFFGetMoleculeProperties(m_h)\n",
    "        for cid in cids:\n",
    "            mmff = AllChem.MMFFGetMoleculeForceField(m_h, prop, confId=cid)\n",
    "            mmff.Minimize()\n",
    "    return Chem.RemoveHs(m_h)\n",
    " \n",
    "# 5つの安定構造のIDを取得\n",
    "uff_confIds = [j for i,j in uff_e[:5]]\n",
    "mmff_confIds = [j for i,j in uff_e[:5]]\n",
    " \n",
    "# UFF及びMMFFで最適化したコンフォマーを取得\n",
    "uff = get_confs(mol, 'uff')\n",
    "mmff = get_confs(mol, 'mmff')\n",
    " \n",
    "# ベンゼンをテンプレートとして一致部位の取得\n",
    "core = uff.GetSubstructMatch(Chem.MolFromSmiles('C1=CC=CC=C1'))\n",
    " \n",
    "# テンプレートを用いてコンフォマーの整列\n",
    "AllChem.AlignMolConformers(uff, atomIds=core)\n",
    "AllChem.AlignMolConformers(mmff, atomIds=core)\n",
    " \n",
    "# コンフォマーを重ね合わせて描画\n",
    "v = py3Dmol.view(width=600, height=600)\n",
    "for cid in uff_confIds:\n",
    "    IPythonConsole.addMolToView(uff, confId=cid, view=v)\n",
    "v.setBackgroundColor('0xeeeeee')\n",
    "v.zoomTo()\n",
    "v.show()"
   ]
  },
  {
   "cell_type": "code",
   "execution_count": 49,
   "metadata": {},
   "outputs": [
    {
     "name": "stdout",
     "output_type": "stream",
     "text": [
      "O\tx: 3.92\ty: 1.38\tz: 0.00\n",
      "O\tx: 2.54\ty: 3.45\tz: 0.00\n",
      "C\tx: 2.54\ty: 2.07\tz: 0.00\n",
      "C\tx: 1.17\ty: 1.38\tz: 0.00\n",
      "C\tx: 1.17\ty: 0.00\tz: 0.00\n",
      "C\tx: -0.21\ty: -0.68\tz: 0.00\n",
      "C\tx: -1.59\ty: 0.00\tz: 0.00\n",
      "C\tx: -1.59\ty: 1.38\tz: 0.00\n",
      "C\tx: -0.21\ty: 2.07\tz: 0.00\n",
      "O\tx: 2.54\ty: -0.68\tz: 0.00\n"
     ]
    }
   ],
   "source": [
    "#今ふぉまーの座標計算\n",
    "conf = mol.GetConformer(0)\n",
    "for i, (x,y,z) in enumerate(conf.GetPositions()[:10]):\n",
    "    atom = mol.GetAtomWithIdx(i)\n",
    "    print('{}\\tx: {:.2f}\\ty: {:.2f}\\tz: {:.2f}'.format(atom.GetSymbol(),x,y,z))"
   ]
  },
  {
   "cell_type": "code",
   "execution_count": null,
   "metadata": {},
   "outputs": [],
   "source": []
  }
 ],
 "metadata": {
  "kernelspec": {
   "display_name": "Environment (conda_chem)",
   "language": "python",
   "name": "conda_chem"
  },
  "language_info": {
   "codemirror_mode": {
    "name": "ipython",
    "version": 3
   },
   "file_extension": ".py",
   "mimetype": "text/x-python",
   "name": "python",
   "nbconvert_exporter": "python",
   "pygments_lexer": "ipython3",
   "version": "3.6.7"
  }
 },
 "nbformat": 4,
 "nbformat_minor": 2
}
